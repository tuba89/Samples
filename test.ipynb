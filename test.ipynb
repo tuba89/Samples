{
 "cells": [
  {
   "cell_type": "markdown",
   "id": "3fd5bf4e",
   "metadata": {},
   "source": [
    "## Activity 1"
   ]
  },
  {
   "cell_type": "code",
   "execution_count": 10,
   "id": "a3c27a37",
   "metadata": {},
   "outputs": [
    {
     "name": "stdout",
     "output_type": "stream",
     "text": [
      "(1, 2, 3, 4, 5)\n"
     ]
    }
   ],
   "source": [
    "def tup_reverse(tuples): \n",
    "    myTuple = tuples[::-1] \n",
    "    return myTuple \n",
    "numbers= (5,4,3,2,1)\n",
    "print(tup_reverse(numbers))"
   ]
  },
  {
   "cell_type": "markdown",
   "id": "c6eae9b4",
   "metadata": {},
   "source": [
    "## Activity 2"
   ]
  },
  {
   "cell_type": "code",
   "execution_count": 99,
   "id": "04ca33b9",
   "metadata": {},
   "outputs": [
    {
     "name": "stdout",
     "output_type": "stream",
     "text": [
      "List1 after append:  \t\t\t\t [1, 'hello', 3.4, 'C#']\n",
      "List2 after append:  \t\t\t\t ['mouse', [8, 4, 6], ['a'], 3.4]\n",
      "List1 after extend:  \t\t\t\t [1, 'hello', 3.4, 'C#', 34, 42]\n",
      "List2 after extend:  \t\t\t\t ['mouse', [8, 4, 6], ['a'], 3.4, 0, 1, '1']\n",
      "\n",
      "\n",
      "List1 after insert 'orange':  \t\t\t [1, 'orange', 'hello', 3.4, 'C#', 34, 42]\n",
      "List2 after insert 'apple':  \t\t\t ['mouse', [8, 4, 6], ['a'], 'apple', 3.4, 0, 1, '1']\n",
      "\n",
      "\n",
      "List1 after removing 34:  \t\t\t [1, 'orange', 'hello', 3.4, 'C#', 42]\n",
      "List2 after removing apple:  \t\t\t ['mouse', [8, 4, 6], ['a'], 3.4, 0, 1, '1']\n",
      "List1 after pop position 3 (remove index3):  \t [1, 'orange', 'hello', 'C#', 42]\n",
      "List2 after removing the last item:  \t\t ['mouse', [8, 4, 6], ['a'], 3.4, 0, 1]\n"
     ]
    }
   ],
   "source": [
    "list1 = [1, 'hello', 3.4]\n",
    "list2 = ['mouse', [8,4,6], ['a']]\n",
    "\n",
    "list1. append('C#')\n",
    "list2.append(3.4)\n",
    "\n",
    "print(\"List1 after append: \", \"\\t\\t\\t\\t\",list1)\n",
    "print(\"List2 after append: \",\"\\t\\t\\t\\t\", list2)\n",
    "\n",
    "list1.extend([34, 42])\n",
    "list2.extend([0,1,'1'])\n",
    "print(\"List1 after extend: \", \"\\t\\t\\t\\t\",list1)\n",
    "print(\"List2 after extend: \", \"\\t\\t\\t\\t\",list2)\n",
    "print('\\n')\n",
    "list1.insert(1, \"orange\")\n",
    "list2.insert(3, \"apple\")\n",
    "print(\"List1 after insert 'orange': \", \"\\t\\t\\t\",list1)\n",
    "print(\"List2 after insert 'apple': \", \"\\t\\t\\t\",list2)\n",
    "print('\\n')\n",
    "list1.remove(34)\n",
    "list2.remove('apple')\n",
    "\n",
    "print(\"List1 after removing 34: \", \"\\t\\t\\t\",list1)\n",
    "print(\"List2 after removing apple: \",\"\\t\\t\\t\", list2)\n",
    "\n",
    "\n",
    "list1.pop(3)\n",
    "list2.pop()  # just remove the last item\n",
    "\n",
    "print(\"List1 after pop position 3 (remove index3): \", \"\\t\",list1)\n",
    "print(\"List2 after removing the last item: \", \"\\t\\t\",list2)\n",
    "\n"
   ]
  },
  {
   "cell_type": "markdown",
   "id": "bac84798",
   "metadata": {},
   "source": [
    "### I'll leave the method {clear} at the end as it removes everything in the list"
   ]
  },
  {
   "cell_type": "code",
   "execution_count": 101,
   "id": "8ae14f98",
   "metadata": {},
   "outputs": [
    {
     "name": "stdout",
     "output_type": "stream",
     "text": [
      "The Index method\n",
      "-------------------------\n",
      "Didplaying My List1:  \t\t [1, 'orange', 'hello', 'C#', 42]\n",
      "The index of the first item is:  0\n",
      "\n",
      "\n",
      "Didplaying My List2:  \t\t ['mouse', [8, 4, 6], ['a'], 3.4, 0, 1]\n",
      "Position count from 2nd index :  4\n",
      "\n",
      "\n",
      "Displaying my list1: \t\t\t [1, 'orange', 'hello', 'C#', 42]\n",
      "Position of orange by (Start:0 End:2) :  1\n"
     ]
    }
   ],
   "source": [
    "print(\"The Index method\")\n",
    "print(\"-\"*25)\n",
    "index = list1.index(1) # تمرير 1 كوسيط ، النتيجة تعطي صفر لانه رقم واحد هو في المرتبة الاولى و مؤشره صفر\n",
    "print(\"Didplaying My List1: \", \"\\t\\t\", list1)\n",
    "print(\"The index of the first item is: \", index)\n",
    "print(\"\\n\")\n",
    "index2 = list2.index(0,2) # استدعاء -اندكس- بتمرير -سي# - كوسيط ابتداءا من المؤشر الثالث و هو رقم 2 ابتداءا من الصفر\n",
    "print(\"Didplaying My List2: \", \"\\t\\t\", list2)\n",
    "print(\"Position count from 2nd index : \",index2)\n",
    "print('\\n')\n",
    "index3 = list1.index('orange',0,2)# يبحث عن الوسيط - اورنج - ابتداءا من المؤشر 0 و يتوقف عن المؤشر 2\n",
    "print(\"Displaying my list1:\", \"\\t\\t\\t\",list1)\n",
    "print(\"Position of orange by (Start:0 End:2) : \", index3)"
   ]
  },
  {
   "cell_type": "code",
   "execution_count": 88,
   "id": "fd03bdbf",
   "metadata": {},
   "outputs": [
    {
     "name": "stdout",
     "output_type": "stream",
     "text": [
      "The Count method\n",
      "----------------\n",
      "How much (1) occurs in list1 : \t\t 2 time(s)\n",
      "How much (mouse) occurs in list2: \t 1 time(s)\n"
     ]
    }
   ],
   "source": [
    "# count: تقوم بحساب العناصر، تمرر لها العنصر الذي تريد معرفة حسابه كم يتكرر من مرة \n",
    "print(\"The Count method\")\n",
    "print(\"-\"*16)\n",
    "count = list1.count(1)\n",
    "count2 = list2.count('mouse')\n",
    "\n",
    "print(\"How much (1) occurs in list1 :\",\"\\t\\t\", count,\"time(s)\")\n",
    "print(\"How much (mouse) occurs in list2:\", '\\t',count2, \"time(s)\")"
   ]
  },
  {
   "cell_type": "code",
   "execution_count": 102,
   "id": "ae23c8dc",
   "metadata": {},
   "outputs": [
    {
     "name": "stdout",
     "output_type": "stream",
     "text": [
      "The Sort method\n",
      "----------------\n",
      "List 1 sorted: [1, 42, 'C#', 'hello', 'orange']\n",
      "List2 Sorted:  [0, 1, 3.4, ['a'], [8, 4, 6], 'mouse']\n"
     ]
    }
   ],
   "source": [
    "# sort: تقوم بترتيب عناصر القائمة \n",
    "\n",
    "print(\"The Sort method\")\n",
    "print(\"-\"*16)\n",
    "list1.sort(key=str)\n",
    "list2.sort(key=str)\n",
    "\n",
    "print(\"List 1 sorted:\", list1)\n",
    "print(\"List2 Sorted: \",list2)"
   ]
  },
  {
   "cell_type": "code",
   "execution_count": 33,
   "id": "49dea48d",
   "metadata": {},
   "outputs": [
    {
     "data": {
      "text/plain": [
       "[1, 1, 3.4, 3.4, 8, 'C#', 'Hello', 'hello']"
      ]
     },
     "execution_count": 33,
     "metadata": {},
     "output_type": "execute_result"
    }
   ],
   "source": [
    "list4 = [3.4, 'hello', 8, 1, \"C#\", 3.4, 'Hello', 1]\n",
    "list4.sort(key=str)\n",
    "list4"
   ]
  },
  {
   "cell_type": "code",
   "execution_count": 106,
   "id": "862e56e5",
   "metadata": {},
   "outputs": [
    {
     "name": "stdout",
     "output_type": "stream",
     "text": [
      "The Reverse method\n",
      "------------------\n",
      "List1 Reversed : ['orange', 'hello', 'C#', 42, 1]\n",
      "List2 Reversed:  ['mouse', [8, 4, 6], ['a'], 3.4, 1, 0]\n"
     ]
    }
   ],
   "source": [
    "# reverse: تقوم بعكس العناصر في القائمة \n",
    "\n",
    "print(\"The Reverse method\")\n",
    "print(\"-\"*18)\n",
    "list1.reverse()\n",
    "list2.reverse()\n",
    "\n",
    "print(\"List1 Reversed :\", list1)\n",
    "print(\"List2 Reversed: \",list2)"
   ]
  },
  {
   "cell_type": "code",
   "execution_count": 108,
   "id": "4dad1759",
   "metadata": {},
   "outputs": [
    {
     "name": "stdout",
     "output_type": "stream",
     "text": [
      "The Copy method\n",
      "---------------\n",
      "Copy of my list1 : ['orange', 'hello', 'C#', 42, 1]\n",
      "Copy of my list2:  ['mouse', [8, 4, 6], ['a'], 3.4, 1, 0]\n"
     ]
    }
   ],
   "source": [
    "# Copy: تقوم فقط بنسخ القائمة المراد نسخها \n",
    "\n",
    "print(\"The Copy method\")\n",
    "print(\"-\"*15)\n",
    "list1_copy = list1.copy()\n",
    "list2_copy = list2.copy()\n",
    "\n",
    "print(\"Copy of my list1 :\", list1_copy)\n",
    "print(\"Copy of my list2: \", list2_copy)"
   ]
  },
  {
   "cell_type": "code",
   "execution_count": 109,
   "id": "da9d4678",
   "metadata": {},
   "outputs": [
    {
     "name": "stdout",
     "output_type": "stream",
     "text": [
      "The Clear method\n",
      "-----------------\n",
      "My first list after clear : []\n",
      "My second list after clear:  []\n"
     ]
    }
   ],
   "source": [
    "# clear: ترجع القائمة فارغة \n",
    "# The output will be an empty list\n",
    "print(\"The Clear method\")\n",
    "print(\"-\"*17)\n",
    "list1.clear()\n",
    "list2.clear()\n",
    "\n",
    "print(\"My first list after clear :\", list1)\n",
    "print(\"My second list after clear: \", list2)"
   ]
  },
  {
   "cell_type": "code",
   "execution_count": null,
   "id": "3ded6ba7",
   "metadata": {},
   "outputs": [],
   "source": []
  }
 ],
 "metadata": {
  "kernelspec": {
   "display_name": "Python 3 (ipykernel)",
   "language": "python",
   "name": "python3"
  },
  "language_info": {
   "codemirror_mode": {
    "name": "ipython",
    "version": 3
   },
   "file_extension": ".py",
   "mimetype": "text/x-python",
   "name": "python",
   "nbconvert_exporter": "python",
   "pygments_lexer": "ipython3",
   "version": "3.8.12"
  }
 },
 "nbformat": 4,
 "nbformat_minor": 5
}
